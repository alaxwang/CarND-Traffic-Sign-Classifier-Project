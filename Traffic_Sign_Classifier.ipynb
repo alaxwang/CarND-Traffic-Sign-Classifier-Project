{
 "cells": [
  {
   "cell_type": "markdown",
   "metadata": {},
   "source": [
    "# Self-Driving Car Engineer Nanodegree\n",
    "\n",
    "## Deep Learning\n",
    "\n",
    "## Project: Build a Traffic Sign Recognition Classifier\n",
    "\n",
    "In this notebook, a template is provided for you to implement your functionality in stages, which is required to successfully complete this project. If additional code is required that cannot be included in the notebook, be sure that the Python code is successfully imported and included in your submission if necessary. \n",
    "\n",
    "> **Note**: Once you have completed all of the code implementations, you need to finalize your work by exporting the iPython Notebook as an HTML document. Before exporting the notebook to html, all of the code cells need to have been run so that reviewers can see the final implementation and output. You can then export the notebook by using the menu above and navigating to  \\n\",\n",
    "    \"**File -> Download as -> HTML (.html)**. Include the finished document along with this notebook as your submission. \n",
    "\n",
    "In addition to implementing code, there is a writeup to complete. The writeup should be completed in a separate file, which can be either a markdown file or a pdf document. There is a [write up template](https://github.com/udacity/CarND-Traffic-Sign-Classifier-Project/blob/master/writeup_template.md) that can be used to guide the writing process. Completing the code template and writeup template will cover all of the [rubric points](https://review.udacity.com/#!/rubrics/481/view) for this project.\n",
    "\n",
    "The [rubric](https://review.udacity.com/#!/rubrics/481/view) contains \"Stand Out Suggestions\" for enhancing the project beyond the minimum requirements. The stand out suggestions are optional. If you decide to pursue the \"stand out suggestions\", you can include the code in this Ipython notebook and also discuss the results in the writeup file.\n",
    "\n",
    "\n",
    ">**Note:** Code and Markdown cells can be executed using the **Shift + Enter** keyboard shortcut. In addition, Markdown cells can be edited by typically double-clicking the cell to enter edit mode."
   ]
  },
  {
   "cell_type": "markdown",
   "metadata": {},
   "source": [
    "---\n",
    "## Step 0: Load The Data"
   ]
  },
  {
   "cell_type": "code",
   "execution_count": 1,
   "metadata": {},
   "outputs": [
    {
     "name": "stdout",
     "output_type": "stream",
     "text": [
      "X_train shape: (34799, 32, 32, 3)\n",
      "y_train shape: (34799,)\n",
      "X_test shape: (12630, 32, 32, 3)\n",
      "y_test shape: (12630,)\n"
     ]
    }
   ],
   "source": [
    "# Load pickled data\n",
    "import pickle\n",
    "\n",
    "# TODO: Fill this in based on where you saved the training and testing data\n",
    "\n",
    "training_file = \"data/train.p\"\n",
    "validation_file= \"data/test.p\"\n",
    "testing_file = \"data/test.p\"\n",
    "\n",
    "with open(training_file, mode='rb') as f:\n",
    "    train = pickle.load(f)\n",
    "with open(validation_file, mode='rb') as f:\n",
    "    valid = pickle.load(f)\n",
    "with open(testing_file, mode='rb') as f:\n",
    "    test = pickle.load(f)\n",
    "    \n",
    "X_train, y_train = train['features'], train['labels']\n",
    "X_valid, y_valid = valid['features'], valid['labels']\n",
    "X_test, y_test = test['features'], test['labels']\n",
    "\n",
    "\n",
    "print(\"X_train shape:\", X_train.shape)\n",
    "print(\"y_train shape:\", y_train.shape)\n",
    "print(\"X_test shape:\", X_test.shape)\n",
    "print(\"y_test shape:\", y_test.shape)"
   ]
  },
  {
   "cell_type": "markdown",
   "metadata": {},
   "source": [
    "---\n",
    "\n",
    "## Step 1: Dataset Summary & Exploration\n",
    "\n",
    "The pickled data is a dictionary with 4 key/value pairs:\n",
    "\n",
    "- `'features'` is a 4D array containing raw pixel data of the traffic sign images, (num examples, width, height, channels).\n",
    "- `'labels'` is a 1D array containing the label/class id of the traffic sign. The file `signnames.csv` contains id -> name mappings for each id.\n",
    "- `'sizes'` is a list containing tuples, (width, height) representing the original width and height the image.\n",
    "- `'coords'` is a list containing tuples, (x1, y1, x2, y2) representing coordinates of a bounding box around the sign in the image. **THESE COORDINATES ASSUME THE ORIGINAL IMAGE. THE PICKLED DATA CONTAINS RESIZED VERSIONS (32 by 32) OF THESE IMAGES**\n",
    "\n",
    "Complete the basic data summary below. Use python, numpy and/or pandas methods to calculate the data summary rather than hard coding the results. For example, the [pandas shape method](http://pandas.pydata.org/pandas-docs/stable/generated/pandas.DataFrame.shape.html) might be useful for calculating some of the summary results. "
   ]
  },
  {
   "cell_type": "markdown",
   "metadata": {},
   "source": [
    "### Provide a Basic Summary of the Data Set Using Python, Numpy and/or Pandas"
   ]
  },
  {
   "cell_type": "code",
   "execution_count": 2,
   "metadata": {},
   "outputs": [
    {
     "name": "stdout",
     "output_type": "stream",
     "text": [
      "Number of training examples = 34799\n",
      "Number of testing examples = 12630\n",
      "Image data shape = (32, 32, 3)\n",
      "Number of classes == 43\n"
     ]
    }
   ],
   "source": [
    "### Replace each question mark with the appropriate value. \n",
    "### Use python, pandas or numpy methods rather than hard coding the results\n",
    "import numpy as np\n",
    "\n",
    "# TODO: Number of training examples\n",
    "n_train = len(X_train)\n",
    "\n",
    "# TODO: Number of validation examples\n",
    "n_validation = len(X_valid)\n",
    "\n",
    "# TODO: Number of testing examples.\n",
    "n_test = len(X_test)\n",
    "\n",
    "# TODO: What's the shape of an traffic sign image?\n",
    "image_shape = X_train[0].shape\n",
    "\n",
    "# TODO: How many unique classes/labels there are in the dataset.\n",
    "n_classes = len(np.unique(y_train))\n",
    "\n",
    "print(\"Number of training examples =\", n_train)\n",
    "print(\"Number of testing examples =\", n_test)\n",
    "print(\"Image data shape =\", image_shape)\n",
    "print(\"Number of classes ==\", n_classes)"
   ]
  },
  {
   "cell_type": "markdown",
   "metadata": {},
   "source": [
    "### Include an exploratory visualization of the dataset"
   ]
  },
  {
   "cell_type": "markdown",
   "metadata": {},
   "source": [
    "Visualize the German Traffic Signs Dataset using the pickled file(s). This is open ended, suggestions include: plotting traffic sign images, plotting the count of each sign, etc. \n",
    "\n",
    "The [Matplotlib](http://matplotlib.org/) [examples](http://matplotlib.org/examples/index.html) and [gallery](http://matplotlib.org/gallery.html) pages are a great resource for doing visualizations in Python.\n",
    "\n",
    "**NOTE:** It's recommended you start with something simple first. If you wish to do more, come back to it after you've completed the rest of the sections. It can be interesting to look at the distribution of classes in the training, validation and test set. Is the distribution the same? Are there more examples of some classes than others?"
   ]
  },
  {
   "cell_type": "code",
   "execution_count": 39,
   "metadata": {},
   "outputs": [
    {
     "name": "stdout",
     "output_type": "stream",
     "text": [
      "(32, 32)\n"
     ]
    },
    {
     "data": {
      "image/png": "[encoded data removed]",
      "text/plain": [
       "<matplotlib.figure.Figure at 0x10b6594a8>"
      ]
     },
     "metadata": {},
     "output_type": "display_data"
    },
    {
     "data": {
      "image/png": "[encoded data removed]",
      "text/plain": [
       "<matplotlib.figure.Figure at 0x10b038ba8>"
      ]
     },
     "metadata": {},
     "output_type": "display_data"
    }
   ],
   "source": [
    "### Data exploration visualization code goes here.\n",
    "### Feel free to use as many code cells as needed.\n",
    "\n",
    "\n",
    "import random\n",
    "import numpy as np\n",
    "import matplotlib.pyplot as plt\n",
    "%matplotlib inline\n",
    "import cv2\n",
    "import csv\n",
    "from numpy import genfromtxt\n",
    "\n",
    "\n",
    "\n",
    "index = random.randint(0, len(X_train))\n",
    "image = X_train[index].squeeze()\n",
    "x_gray = cv2.cvtColor(X_train[0],cv2.COLOR_RGB2GRAY)\n",
    "print(x_gray.shape)\n",
    "gray_img = cv2.cvtColor(image, cv2.COLOR_RGB2GRAY)\n",
    "plt.figure(figsize=(1,1))\n",
    "plt.imshow(gray_img, cmap='gray')\n",
    "#print(y_train[index])\n",
    "\n",
    "fig, ax = plt.subplots()\n",
    "ind = np.arange(n_classes)\n",
    "n, bins, patches = ax.hist(y_train, n_classes)\n",
    "ax.set_xlabel('classes')\n",
    "ax.set_ylabel('counts')\n",
    "ax.set_title(r'Histogram of traffic sign images')\n",
    "#p1 = ax.bar(ind,0,width,color='r',bottom=0,yerr=0)\n",
    "plt.show()\n",
    "\n",
    "#\n",
    "my_data = genfromtxt('signnames.csv', delimiter=',' , dtype=None)\n",
    "label_to_str = {}\n",
    "for i in range(len(my_data)):\n",
    "    if i == 0:\n",
    "        continue\n",
    "    label_to_str[int(my_data[i][0])] = str(my_data[i][1])\n",
    "\n",
    "def ShowPicColor():\n",
    "    #plt.imshow(X[0], cmap='gray')\n",
    "    fig, axs = plt.subplots(2,5, figsize=(16, 6))\n",
    "    axs = axs.ravel()\n",
    "    for i in range(10):\n",
    "        index = random.randint(0, len(X_train))\n",
    "        image = X_train[index]\n",
    "        axs[i].imshow(image)\n",
    "        axs[i].axis('off')\n",
    "        axs[i].set_title(label_to_str[y_train[index]])\n",
    "        \n",
    "def ShowPicAllGray(X):\n",
    "    #plt.imshow(X[0], cmap='gray')\n",
    "    fig, axs = plt.subplots(1,5, figsize=(16, 6))\n",
    "    axs = axs.ravel()\n",
    "    for i in range(len(X)):\n",
    "        image = X[i]\n",
    "        axs[i].imshow(image.reshape(32,32), plt.cm.gray)\n",
    "        axs[i].axis('off')\n",
    "        #axs[i].set_title(label_to_str[y_train[index]])\n",
    "#ShowPicColor()"
   ]
  },
  {
   "cell_type": "markdown",
   "metadata": {},
   "source": [
    "----\n",
    "\n",
    "## Step 2: Design and Test a Model Architecture\n",
    "\n",
    "Design and implement a deep learning model that learns to recognize traffic signs. Train and test your model on the [German Traffic Sign Dataset](http://benchmark.ini.rub.de/?section=gtsrb&subsection=dataset).\n",
    "\n",
    "The LeNet-5 implementation shown in the [classroom](https://classroom.udacity.com/nanodegrees/nd013/parts/fbf77062-5703-404e-b60c-95b78b2f3f9e/modules/6df7ae49-c61c-4bb2-a23e-6527e69209ec/lessons/601ae704-1035-4287-8b11-e2c2716217ad/concepts/d4aca031-508f-4e0b-b493-e7b706120f81) at the end of the CNN lesson is a solid starting point. You'll have to change the number of classes and possibly the preprocessing, but aside from that it's plug and play! \n",
    "\n",
    "With the LeNet-5 solution from the lecture, you should expect a validation set accuracy of about 0.89. To meet specifications, the validation set accuracy will need to be at least 0.93. It is possible to get an even higher accuracy, but 0.93 is the minimum for a successful project submission. \n",
    "\n",
    "There are various aspects to consider when thinking about this problem:\n",
    "\n",
    "- Neural network architecture (is the network over or underfitting?)\n",
    "- Play around preprocessing techniques (normalization, rgb to grayscale, etc)\n",
    "- Number of examples per label (some have more than others).\n",
    "- Generate fake data.\n",
    "\n",
    "Here is an example of a [published baseline model on this problem](http://yann.lecun.com/exdb/publis/pdf/sermanet-ijcnn-11.pdf). It's not required to be familiar with the approach used in the paper but, it's good practice to try to read papers like these."
   ]
  },
  {
   "cell_type": "markdown",
   "metadata": {},
   "source": [
    "### Pre-process the Data Set (normalization, grayscale, etc.)"
   ]
  },
  {
   "cell_type": "markdown",
   "metadata": {},
   "source": [
    "Minimally, the image data should be normalized so that the data has mean zero and equal variance. For image data, `(pixel - 128)/ 128` is a quick way to approximately normalize the data and can be used in this project. \n",
    "\n",
    "Other pre-processing steps are optional. You can try different techniques to see if it improves performance. \n",
    "\n",
    "Use the code cell (or multiple code cells, if necessary) to implement the first step of your project."
   ]
  },
  {
   "cell_type": "code",
   "execution_count": 6,
   "metadata": {},
   "outputs": [
    {
     "name": "stdout",
     "output_type": "stream",
     "text": [
      "(34799, 32, 32, 1)\n",
      "(12630, 32, 32, 1)\n",
      "(12630, 32, 32, 1)\n"
     ]
    },
    {
     "data": {
      "image/png": "[encoded data removed]",
      "text/plain": [
       "<matplotlib.figure.Figure at 0x15bd94f28>"
      ]
     },
     "metadata": {},
     "output_type": "display_data"
    }
   ],
   "source": [
    "### Preprocess the data here. It is required to normalize the data. Other preprocessing steps could include \n",
    "### converting to grayscale, etc.\n",
    "### Feel free to use as many code cells as needed.\n",
    "\n",
    "from sklearn.utils import shuffle\n",
    "\n",
    "def ConvertToGray(data):\n",
    "    #print (data[0].shape)\n",
    "    #return data\n",
    "    gray_data = np.zeros((len(data),32,32,1))\n",
    "    #print(gray_data.shape)\n",
    "    #print(np.array(cv2.cvtColor(data[0], cv2.COLOR_RGB2GRAY)).reshape(32,32,1))\n",
    "    #return data\n",
    "    for i in range(len(data)):\n",
    "        gray_data[i] = np.array(cv2.cvtColor(data[i], cv2.COLOR_RGB2GRAY)).reshape(32,32,1)\n",
    "    return gray_data\n",
    " \n",
    "X_train, y_train = shuffle(X_train, y_train)\n",
    "\n",
    "X_train_gray = ConvertToGray(X_train)\n",
    "X_test_gray = ConvertToGray(X_test)\n",
    "X_valid_gray = ConvertToGray(X_valid)\n",
    "\n",
    "#X_train_norm = X_train_gray\n",
    "#X_valid_norm = X_valid_gray\n",
    "#X_test_norm = X_test_gray\n",
    "               \n",
    "X_train_norm = (X_train_gray.astype(float) - 128) / 128 \n",
    "X_valid_norm = (X_valid_gray.astype(float)  - 128)/128\n",
    "X_test_norm = (X_test_gray.astype(float)  - 128)/128\n",
    "\n",
    "print(X_train_norm.shape)\n",
    "print(X_test_norm.shape)\n",
    "print(X_valid_norm.shape)\n",
    "\n",
    "ShowPicGray(X_train_norm)\n"
   ]
  },
  {
   "cell_type": "markdown",
   "metadata": {},
   "source": [
    "### Model Architecture"
   ]
  },
  {
   "cell_type": "code",
   "execution_count": 11,
   "metadata": {},
   "outputs": [
    {
     "name": "stdout",
     "output_type": "stream",
     "text": [
      "Yes\n"
     ]
    }
   ],
   "source": [
    "### Define your architecture here.\n",
    "### Feel free to use as many code cells as needed.\n",
    "import tensorflow as tf\n",
    "\n",
    "\n",
    "from tensorflow.contrib.layers import flatten\n",
    "\n",
    "def LeNet(x):    \n",
    "    # Arguments used for tf.truncated_normal, randomly defines variables for the weights and biases for each layer\n",
    "    mu = 0\n",
    "    sigma = 0.1\n",
    "    \n",
    "    F_W = tf.Variable(tf.truncated_normal((5, 5, 1, 6), mu,sigma))\n",
    "    F_b = tf.Variable(tf.zeros(6))\n",
    "    strides = [1, 1, 1, 1]\n",
    "    # TODO: Layer 1: Convolutional. Input = 32x32x1. Output = 28x28x6.\n",
    "    layer_1 = tf.nn.conv2d(x, F_W, strides, 'VALID') + F_b\n",
    "    # TODO: Activation.\n",
    "    layer_1 = tf.nn.relu(layer_1)\n",
    "    \n",
    "    print('layer1_shape', layer_1.get_shape())\n",
    "    \n",
    "    # TODO: Pooling. Input = 28x28x6. Output = 14x14x6.\n",
    "    ksize = [1, 2, 2, 1]\n",
    "    strides = [1, 2, 2, 1]\n",
    "    layer_1 = tf.nn.max_pool(layer_1, ksize, strides, 'VALID')\n",
    "    \n",
    "    layer_1 = tf.nn.relu(layer_1)\n",
    "    print('after maxpool layer1_shape', layer_1.get_shape())\n",
    "    \n",
    "    \n",
    "    # TODO: Layer 2: Convolutional. Output = 10x10x16.\n",
    "    F_W_2 = tf.Variable(tf.truncated_normal((5, 5, 6, 16), mu,sigma))\n",
    "    F_b_2 = tf.Variable(tf.zeros(16))\n",
    "    strides = [1, 1, 1, 1]\n",
    "    layer_2 = tf.nn.conv2d(layer_1, F_W_2, strides, 'VALID') + F_b_2\n",
    "    \n",
    "    # TODO: Activation.\n",
    "    layer_2 = tf.nn.relu(layer_2)\n",
    "    print('layer2_shape', layer_2.get_shape())\n",
    "    \n",
    "    # TODO: Pooling. Input = 10x10x16. Output = 5x5x16.\n",
    "    ksize = [1, 2, 2, 1]\n",
    "    strides = [1, 2, 2, 1]\n",
    "    layer_2= tf.nn.max_pool(layer_2, ksize, strides, 'VALID')\n",
    "    print('after maxpool layer2_shape', layer_2.get_shape())\n",
    "    \n",
    "    # TODO: Flatten. Input = 5x5x16. Output = 400.\n",
    "    flatten_layer = tf.contrib.layers.flatten(layer_2)\n",
    "    print('flatten_layer_shape', flatten_layer.get_shape())\n",
    "    \n",
    "    # TODO: Layer 3: Fully Connected. Input = 400. Output = 400.\n",
    "    F_W_3  = tf.Variable(tf.truncated_normal((400, 400), mu,sigma))\n",
    "    F_b_3 = tf.Variable(tf.zeros(400))\n",
    "    layer_3 = tf.nn.bias_add(tf.matmul(flatten_layer, F_W_3),F_b_3)\n",
    "    \n",
    "    # TODO: Activation.\n",
    "    layer_3 = tf.nn.relu(layer_3)\n",
    "    print('layer_3 shape ', layer_3.get_shape())\n",
    "\n",
    "    # TODO: Layer 4: Fully Connected. Input = 400. Output = 400.\n",
    "    F_W_4  = tf.Variable(tf.truncated_normal((400, 400), mu,sigma))\n",
    "    F_b_4 = tf.Variable(tf.zeros(400))\n",
    "    layer_4 = tf.nn.bias_add(tf.matmul(layer_3, F_W_4),F_b_4)\n",
    "    \n",
    "    \n",
    "    # TODO: Activation.\n",
    "    layer_4 = tf.nn.relu(layer_4)\n",
    "    print('layer_4 shape ', layer_4.get_shape())\n",
    "    \n",
    "    # dropout\n",
    "    layer_4 = tf.nn.dropout(layer_4, keep_prob)\n",
    "\n",
    "    # TODO: Layer 5: Fully Connected. Input = 400. Output = 43.\n",
    "    F_W_5  = tf.Variable(tf.truncated_normal((400, 43), mu, sigma))\n",
    "    F_b_5 = tf.Variable(tf.zeros(43))\n",
    "    logits = tf.nn.bias_add(tf.matmul(layer_4, F_W_5),F_b_5)\n",
    "    print('logits shape ', logits.get_shape())\n",
    "    \n",
    "    return logits\n",
    "print('Yes')\n"
   ]
  },
  {
   "cell_type": "code",
   "execution_count": 118,
   "metadata": {},
   "outputs": [
    {
     "name": "stdout",
     "output_type": "stream",
     "text": [
      "done\n"
     ]
    }
   ],
   "source": []
  },
  {
   "cell_type": "markdown",
   "metadata": {},
   "source": [
    "### Train, Validate and Test the Model"
   ]
  },
  {
   "cell_type": "markdown",
   "metadata": {},
   "source": [
    "A validation set can be used to assess how well the model is performing. A low accuracy on the training and validation\n",
    "sets imply underfitting. A high accuracy on the training set but low accuracy on the validation set implies overfitting."
   ]
  },
  {
   "cell_type": "code",
   "execution_count": 13,
   "metadata": {},
   "outputs": [
    {
     "name": "stdout",
     "output_type": "stream",
     "text": [
      "layer1_shape (?, 28, 28, 6)\n",
      "after maxpool layer1_shape (?, 14, 14, 6)\n",
      "layer2_shape (?, 10, 10, 16)\n",
      "after maxpool layer2_shape (?, 5, 5, 16)\n",
      "flatten_layer_shape (?, 400)\n",
      "layer_3 shape  (?, 400)\n",
      "layer_4 shape  (?, 400)\n",
      "logits shape  (?, 43)\n",
      "Training...\n",
      "\n",
      "EPOCH 1 ...\n",
      "Validation Accuracy = 0.815\n",
      "\n",
      "EPOCH 2 ...\n",
      "Validation Accuracy = 0.879\n",
      "\n",
      "EPOCH 3 ...\n",
      "Validation Accuracy = 0.899\n",
      "\n",
      "EPOCH 4 ...\n",
      "Validation Accuracy = 0.908\n",
      "\n",
      "EPOCH 5 ...\n",
      "Validation Accuracy = 0.911\n",
      "\n",
      "EPOCH 6 ...\n",
      "Validation Accuracy = 0.915\n",
      "\n",
      "EPOCH 7 ...\n",
      "Validation Accuracy = 0.919\n",
      "\n",
      "EPOCH 8 ...\n",
      "Validation Accuracy = 0.918\n",
      "\n",
      "EPOCH 9 ...\n",
      "Validation Accuracy = 0.915\n",
      "\n",
      "EPOCH 10 ...\n",
      "Validation Accuracy = 0.921\n",
      "\n",
      "EPOCH 11 ...\n",
      "Validation Accuracy = 0.928\n",
      "\n",
      "EPOCH 12 ...\n",
      "Validation Accuracy = 0.930\n",
      "\n",
      "EPOCH 13 ...\n",
      "Validation Accuracy = 0.922\n",
      "\n",
      "EPOCH 14 ...\n",
      "Validation Accuracy = 0.927\n",
      "\n",
      "EPOCH 15 ...\n",
      "Validation Accuracy = 0.931\n",
      "\n",
      "EPOCH 16 ...\n",
      "Validation Accuracy = 0.933\n",
      "\n",
      "EPOCH 17 ...\n",
      "Validation Accuracy = 0.923\n",
      "\n",
      "EPOCH 18 ...\n",
      "Validation Accuracy = 0.937\n",
      "\n",
      "EPOCH 19 ...\n",
      "Validation Accuracy = 0.927\n",
      "\n",
      "EPOCH 20 ...\n",
      "Validation Accuracy = 0.935\n",
      "\n",
      "EPOCH 21 ...\n",
      "Validation Accuracy = 0.936\n",
      "\n",
      "EPOCH 22 ...\n",
      "Validation Accuracy = 0.930\n",
      "\n",
      "EPOCH 23 ...\n",
      "Validation Accuracy = 0.934\n",
      "\n",
      "EPOCH 24 ...\n",
      "Validation Accuracy = 0.933\n",
      "\n",
      "EPOCH 25 ...\n",
      "Validation Accuracy = 0.932\n",
      "\n",
      "EPOCH 26 ...\n",
      "Validation Accuracy = 0.939\n",
      "\n",
      "EPOCH 27 ...\n",
      "Validation Accuracy = 0.941\n",
      "\n",
      "EPOCH 28 ...\n",
      "Validation Accuracy = 0.934\n",
      "\n",
      "EPOCH 29 ...\n",
      "Validation Accuracy = 0.929\n",
      "\n",
      "EPOCH 30 ...\n",
      "Validation Accuracy = 0.930\n",
      "\n",
      "Model saved\n"
     ]
    }
   ],
   "source": [
    "### Train your model here.\n",
    "### Calculate and report the accuracy on the training and validation set.\n",
    "### Once a final model architecture is selected, \n",
    "### the accuracy on the test set should be calculated and reported as well.\n",
    "### Feel free to use as many code cells as needed.\n",
    "\n",
    "import tensorflow as tf\n",
    "\n",
    "EPOCHS = 30\n",
    "BATCH_SIZE = 100\n",
    "\n",
    "x = tf.placeholder(tf.float32, (None, 32, 32, 1))\n",
    "y = tf.placeholder(tf.int32, (None))\n",
    "keep_prob = tf.placeholder(tf.float32)\n",
    "one_hot_y = tf.one_hot(y, 43)\n",
    "rate = 0.001\n",
    "\n",
    "logits = LeNet(x)\n",
    "cross_entropy = tf.nn.softmax_cross_entropy_with_logits(labels=one_hot_y, logits=logits)\n",
    "loss_operation = tf.reduce_mean(cross_entropy)\n",
    "optimizer = tf.train.AdamOptimizer(learning_rate = rate)\n",
    "training_operation = optimizer.minimize(loss_operation)\n",
    "\n",
    "correct_prediction = tf.equal(tf.argmax(logits, 1), tf.argmax(one_hot_y, 1))\n",
    "accuracy_operation = tf.reduce_mean(tf.cast(correct_prediction, tf.float32))\n",
    "saver = tf.train.Saver()\n",
    "\n",
    "def evaluate(X_data, y_data):\n",
    "    num_examples = len(X_data)\n",
    "    total_accuracy = 0\n",
    "    sess = tf.get_default_session()\n",
    "    for offset in range(0, num_examples, BATCH_SIZE):\n",
    "        batch_x, batch_y = X_data[offset:offset+BATCH_SIZE], y_data[offset:offset+BATCH_SIZE]\n",
    "        accuracy = sess.run(accuracy_operation, feed_dict={x: batch_x, y: batch_y, keep_prob:1.0})\n",
    "        total_accuracy += (accuracy * len(batch_x))\n",
    "    return total_accuracy / num_examples\n",
    "\n",
    "\n",
    "with tf.Session() as sess:\n",
    "    sess.run(tf.global_variables_initializer())\n",
    "    num_examples = len(X_train_norm)\n",
    "    print(\"Training...\")\n",
    "    print()\n",
    "    for i in range(EPOCHS):\n",
    "        X_train_tmp, y_train_tmp = shuffle(X_train_norm, y_train)\n",
    "        for offset in range(0, num_examples, BATCH_SIZE):\n",
    "            end = offset + BATCH_SIZE\n",
    "            batch_x, batch_y = X_train_tmp[offset:end], y_train_tmp[offset:end]\n",
    "            sess.run(training_operation, feed_dict={x: batch_x, y: batch_y, keep_prob:0.5})\n",
    "            \n",
    "        validation_accuracy = evaluate(X_valid_norm, y_valid)\n",
    "        print(\"EPOCH {} ...\".format(i+1))\n",
    "        print(\"Validation Accuracy = {:.3f}\".format(validation_accuracy))\n",
    "        print()\n",
    "    saver.save(sess, './lenet_10')\n",
    "    print(\"Model saved\")\n",
    "    "
   ]
  },
  {
   "cell_type": "code",
   "execution_count": 18,
   "metadata": {},
   "outputs": [
    {
     "name": "stdout",
     "output_type": "stream",
     "text": [
      "Validation Accuracy = 0.930\n",
      "Test Accuracy = 0.930\n",
      "Training Accuracy = 0.999\n"
     ]
    }
   ],
   "source": [
    "with tf.Session() as sess:\n",
    "    #new_saver = tf.train.import_meta_graph('lenet_10.meta')\n",
    "    #new_saver.restore(sess, tf.train.latest_checkpoint('./'))\n",
    "    saver.restore(sess, tf.train.latest_checkpoint('.'))\n",
    "    valid_accuracy = evaluate(X_valid_norm, y_valid)\n",
    "    print(\"Validation Accuracy = {:.3f}\".format(valid_accuracy))\n",
    "    test_accuracy = evaluate(X_test_norm, y_test)\n",
    "    print(\"Test Accuracy = {:.3f}\".format(test_accuracy))\n",
    "    training_accuracy = evaluate(X_train_norm, y_train)\n",
    "    print(\"Training Accuracy = {:.3f}\".format(training_accuracy))\n",
    "    "
   ]
  },
  {
   "cell_type": "markdown",
   "metadata": {},
   "source": [
    "---\n",
    "\n",
    "## Step 3: Test a Model on New Images\n",
    "\n",
    "To give yourself more insight into how your model is working, download at least five pictures of German traffic signs from the web and use your model to predict the traffic sign type.\n",
    "\n",
    "You may find `signnames.csv` useful as it contains mappings from the class id (integer) to the actual sign name."
   ]
  },
  {
   "cell_type": "markdown",
   "metadata": {},
   "source": [
    "### Load and Output the Images"
   ]
  },
  {
   "cell_type": "code",
   "execution_count": 59,
   "metadata": {},
   "outputs": [
    {
     "name": "stdout",
     "output_type": "stream",
     "text": [
      "Test Accuracy = 0.600\n"
     ]
    },
    {
     "data": {
      "image/png": "[encoded data removed]",
      "text/plain": [
       "<matplotlib.figure.Figure at 0x1252a9048>"
      ]
     },
     "metadata": {},
     "output_type": "display_data"
    }
   ],
   "source": [
    "### Load the images and plot them here.\n",
    "### Feel free to use as many code cells as needed.\n",
    "import cv2 as cv\n",
    "\n",
    "x_images = []\n",
    "\n",
    "x_images.append(cv.resize(cv2.imread('download/priority_road.jpg'), (32, 32), interpolation = cv.INTER_AREA))\n",
    "x_images.append(cv.resize(cv2.imread('download/bumpy_road.jpg'), (32, 32), interpolation = cv.INTER_AREA))\n",
    "x_images.append(cv.resize(cv2.imread('download/no_entry.jpeg'), (32, 32), interpolation = cv.INTER_AREA))\n",
    "x_images.append(cv.resize(cv2.imread('download/speed_limit_80.jpg'), (32, 32), interpolation = cv.INTER_AREA))\n",
    "x_images.append(cv.resize(cv2.imread('download/yield.jpg'), (32, 32), interpolation = cv.INTER_AREA))\n",
    "\n",
    "x_images = (ConvertToGray(x_images).astype(float) - 128) / 128 \n",
    "y_labels = [12, 22, 17, 5, 13]\n",
    "#y_labels = [12, 22, 17, 13]\n",
    "\n",
    "\n",
    "ShowPicAllGray(x_images)\n",
    "\n",
    "with tf.Session() as sess:\n",
    "    #new_saver = tf.train.import_meta_graph('lenet_10.meta')\n",
    "    saver.restore(sess, tf.train.latest_checkpoint('./'))\n",
    "    download_accuracy = evaluate(x_images, y_labels)\n",
    "    print(\"Test Accuracy = {:.3f}\".format(download_accuracy))\n",
    "    predictSoftmax = tf.nn.softmax(logits)\n",
    "    softmaxProb = sess.run(predictSoftmax, feed_dict={x: x_images, keep_prob: 1.0})\n"
   ]
  },
  {
   "cell_type": "markdown",
   "metadata": {},
   "source": [
    "### Predict the Sign Type for Each Image"
   ]
  },
  {
   "cell_type": "code",
   "execution_count": 3,
   "metadata": {
    "collapsed": true
   },
   "outputs": [],
   "source": [
    "### Run the predictions here and use the model to output the prediction for each image.\n",
    "### Make sure to pre-process the images with the same pre-processing pipeline used earlier.\n",
    "### Feel free to use as many code cells as needed.\n"
   ]
  },
  {
   "cell_type": "markdown",
   "metadata": {},
   "source": [
    "### Analyze Performance"
   ]
  },
  {
   "cell_type": "code",
   "execution_count": 252,
   "metadata": {},
   "outputs": [
    {
     "data": {
      "image/png": "[encoded data removed]",
      "text/plain": [
       "<matplotlib.figure.Figure at 0x1298ec208>"
      ]
     },
     "metadata": {},
     "output_type": "display_data"
    }
   ],
   "source": [
    "### Calculate the accuracy for these 5 new images. \n",
    "### For example, if the model predicted 1 out of 5 signs correctly, it's 20% accurate on these new images.\n"
   ]
  },
  {
   "cell_type": "markdown",
   "metadata": {},
   "source": [
    "### Output Top 5 Softmax Probabilities For Each Image Found on the Web"
   ]
  },
  {
   "cell_type": "markdown",
   "metadata": {},
   "source": [
    "For each of the new images, print out the model's softmax probabilities to show the **certainty** of the model's predictions (limit the output to the top 5 probabilities for each image). [`tf.nn.top_k`](https://www.tensorflow.org/versions/r0.12/api_docs/python/nn.html#top_k) could prove helpful here. \n",
    "\n",
    "The example below demonstrates how tf.nn.top_k can be used to find the top k predictions for each image.\n",
    "\n",
    "`tf.nn.top_k` will return the values and indices (class ids) of the top k predictions. So if k=3, for each sign, it'll return the 3 largest probabilities (out of a possible 43) and the correspoding class ids.\n",
    "\n",
    "Take this numpy array as an example. The values in the array represent predictions. The array contains softmax probabilities for five candidate images with six possible classes. `tf.nn.top_k` is used to choose the three classes with the highest probability:\n",
    "\n",
    "```\n",
    "# (5, 6) array\n",
    "a = np.array([[ 0.24879643,  0.07032244,  0.12641572,  0.34763842,  0.07893497,\n",
    "         0.12789202],\n",
    "       [ 0.28086119,  0.27569815,  0.08594638,  0.0178669 ,  0.18063401,\n",
    "         0.15899337],\n",
    "       [ 0.26076848,  0.23664738,  0.08020603,  0.07001922,  0.1134371 ,\n",
    "         0.23892179],\n",
    "       [ 0.11943333,  0.29198961,  0.02605103,  0.26234032,  0.1351348 ,\n",
    "         0.16505091],\n",
    "       [ 0.09561176,  0.34396535,  0.0643941 ,  0.16240774,  0.24206137,\n",
    "         0.09155967]])\n",
    "```\n",
    "\n",
    "Running it through `sess.run(tf.nn.top_k(tf.constant(a), k=3))` produces:\n",
    "\n",
    "```\n",
    "TopKV2(values=array([[ 0.34763842,  0.24879643,  0.12789202],\n",
    "       [ 0.28086119,  0.27569815,  0.18063401],\n",
    "       [ 0.26076848,  0.23892179,  0.23664738],\n",
    "       [ 0.29198961,  0.26234032,  0.16505091],\n",
    "       [ 0.34396535,  0.24206137,  0.16240774]]), indices=array([[3, 0, 5],\n",
    "       [0, 1, 4],\n",
    "       [0, 5, 1],\n",
    "       [1, 3, 5],\n",
    "       [1, 4, 3]], dtype=int32))\n",
    "```\n",
    "\n",
    "Looking just at the first row we get `[ 0.34763842,  0.24879643,  0.12789202]`, you can confirm these are the 3 largest probabilities in `a`. You'll also notice `[3, 0, 5]` are the corresponding indices."
   ]
  },
  {
   "cell_type": "code",
   "execution_count": 60,
   "metadata": {},
   "outputs": [
    {
     "name": "stdout",
     "output_type": "stream",
     "text": [
      "TopKV2(values=array([[  1.00000000e+00,   1.17711281e-08,   1.16784555e-08,\n",
      "          2.65292371e-11,   1.91769994e-12],\n",
      "       [  9.99981165e-01,   1.86296111e-05,   8.52915107e-08,\n",
      "          4.64816416e-08,   4.54431604e-13],\n",
      "       [  1.00000000e+00,   1.05915238e-29,   1.02105884e-29,\n",
      "          9.92899453e-31,   9.41536933e-31],\n",
      "       [  7.82811284e-01,   2.16530949e-01,   6.57537777e-04,\n",
      "          3.06639208e-07,   4.61772913e-08],\n",
      "       [  9.99908566e-01,   9.13817785e-05,   1.83742799e-10,\n",
      "          5.45424979e-13,   7.52329446e-14]], dtype=float32), indices=array([[12, 14, 10, 40,  5],\n",
      "       [28,  3, 29,  1, 34],\n",
      "       [17, 34,  9,  8, 32],\n",
      "       [ 1,  2,  5,  7,  3],\n",
      "       [13, 25, 10,  5, 38]], dtype=int32))\n"
     ]
    }
   ],
   "source": [
    "### Print out the top five softmax probabilities for the predictions on the German traffic sign images found on the web. \n",
    "### Feel free to use as many code cells as needed.\n",
    "# y_labels = [12, 22, 17, 3, 13]\n",
    "\n",
    "#print(softmaxProb)\n",
    "with tf.Session() as sess:\n",
    "    top_k =sess.run(tf.nn.top_k(softmaxProb, k=5))\n",
    "    print(top_k)\n",
    "    \n",
    "    "
   ]
  },
  {
   "cell_type": "markdown",
   "metadata": {},
   "source": [
    "### Project Writeup\n",
    "\n",
    "Once you have completed the code implementation, document your results in a project writeup using this [template](https://github.com/udacity/CarND-Traffic-Sign-Classifier-Project/blob/master/writeup_template.md) as a guide. The writeup can be in a markdown or pdf file. "
   ]
  },
  {
   "cell_type": "markdown",
   "metadata": {},
   "source": [
    "> **Note**: Once you have completed all of the code implementations and successfully answered each question above, you may finalize your work by exporting the iPython Notebook as an HTML document. You can do this by using the menu above and navigating to  \\n\",\n",
    "    \"**File -> Download as -> HTML (.html)**. Include the finished document along with this notebook as your submission."
   ]
  },
  {
   "cell_type": "markdown",
   "metadata": {},
   "source": [
    "---\n",
    "\n",
    "## Step 4 (Optional): Visualize the Neural Network's State with Test Images\n",
    "\n",
    " This Section is not required to complete but acts as an additional excersise for understaning the output of a neural network's weights. While neural networks can be a great learning device they are often referred to as a black box. We can understand what the weights of a neural network look like better by plotting their feature maps. After successfully training your neural network you can see what it's feature maps look like by plotting the output of the network's weight layers in response to a test stimuli image. From these plotted feature maps, it's possible to see what characteristics of an image the network finds interesting. For a sign, maybe the inner network feature maps react with high activation to the sign's boundary outline or to the contrast in the sign's painted symbol.\n",
    "\n",
    " Provided for you below is the function code that allows you to get the visualization output of any tensorflow weight layer you want. The inputs to the function should be a stimuli image, one used during training or a new one you provided, and then the tensorflow variable name that represents the layer's state during the training process, for instance if you wanted to see what the [LeNet lab's](https://classroom.udacity.com/nanodegrees/nd013/parts/fbf77062-5703-404e-b60c-95b78b2f3f9e/modules/6df7ae49-c61c-4bb2-a23e-6527e69209ec/lessons/601ae704-1035-4287-8b11-e2c2716217ad/concepts/d4aca031-508f-4e0b-b493-e7b706120f81) feature maps looked like for it's second convolutional layer you could enter conv2 as the tf_activation variable.\n",
    "\n",
    "For an example of what feature map outputs look like, check out NVIDIA's results in their paper [End-to-End Deep Learning for Self-Driving Cars](https://devblogs.nvidia.com/parallelforall/deep-learning-self-driving-cars/) in the section Visualization of internal CNN State. NVIDIA was able to show that their network's inner weights had high activations to road boundary lines by comparing feature maps from an image with a clear path to one without. Try experimenting with a similar test to show that your trained network's weights are looking for interesting features, whether it's looking at differences in feature maps from images with or without a sign, or even what feature maps look like in a trained network vs a completely untrained one on the same sign image.\n",
    "\n",
    "<figure>\n",
    " <img src=\"visualize_cnn.png\" width=\"380\" alt=\"Combined Image\" />\n",
    " <figcaption>\n",
    " <p></p> \n",
    " <p style=\"text-align: center;\"> Your output should look something like this (above)</p> \n",
    " </figcaption>\n",
    "</figure>\n",
    " <p></p> \n"
   ]
  },
  {
   "cell_type": "code",
   "execution_count": 37,
   "metadata": {
    "collapsed": true
   },
   "outputs": [],
   "source": [
    "### Visualize your network's feature maps here.\n",
    "### Feel free to use as many code cells as needed.\n",
    "\n",
    "# image_input: the test image being fed into the network to produce the feature maps\n",
    "# tf_activation: should be a tf variable name used during your training procedure that represents the calculated state of a specific weight layer\n",
    "# activation_min/max: can be used to view the activation contrast in more detail, by default matplot sets min and max to the actual min and max values of the output\n",
    "# plt_num: used to plot out multiple different weight feature map sets on the same block, just extend the plt number for each new feature map entry\n",
    "\n",
    "def outputFeatureMap(image_input, tf_activation, activation_min=-1, activation_max=-1 ,plt_num=1):\n",
    "    # Here make sure to preprocess your image_input in a way your network expects\n",
    "    # with size, normalization, ect if needed\n",
    "    # image_input =\n",
    "    # Note: x should be the same name as your network's tensorflow data placeholder variable\n",
    "    # If you get an error tf_activation is not defined it may be having trouble accessing the variable from inside a function\n",
    "    activation = tf_activation.eval(session=sess,feed_dict={x : image_input})\n",
    "    featuremaps = activation.shape[3]\n",
    "    plt.figure(plt_num, figsize=(15,15))\n",
    "    for featuremap in range(featuremaps):\n",
    "        plt.subplot(6,8, featuremap+1) # sets the number of feature maps to show on each row and column\n",
    "        plt.title('FeatureMap ' + str(featuremap)) # displays the feature map number\n",
    "        if activation_min != -1 & activation_max != -1:\n",
    "            plt.imshow(activation[0,:,:, featuremap], interpolation=\"nearest\", vmin =activation_min, vmax=activation_max, cmap=\"gray\")\n",
    "        elif activation_max != -1:\n",
    "            plt.imshow(activation[0,:,:, featuremap], interpolation=\"nearest\", vmax=activation_max, cmap=\"gray\")\n",
    "        elif activation_min !=-1:\n",
    "            plt.imshow(activation[0,:,:, featuremap], interpolation=\"nearest\", vmin=activation_min, cmap=\"gray\")\n",
    "        else:\n",
    "            plt.imshow(activation[0,:,:, featuremap], interpolation=\"nearest\", cmap=\"gray\")"
   ]
  }
 ],
 "metadata": {
  "anaconda-cloud": {},
  "kernelspec": {
   "display_name": "Python 3",
   "language": "python",
   "name": "python3"
  },
  "language_info": {
   "codemirror_mode": {
    "name": "ipython",
    "version": 3
   },
   "file_extension": ".py",
   "mimetype": "text/x-python",
   "name": "python",
   "nbconvert_exporter": "python",
   "pygments_lexer": "ipython3",
   "version": "3.5.2"
  },
  "widgets": {
   "state": {},
   "version": "1.1.2"
  }
 },
 "nbformat": 4,
 "nbformat_minor": 1
}
